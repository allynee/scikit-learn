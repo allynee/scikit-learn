{
 "cells": [
  {
   "cell_type": "markdown",
   "id": "5b98fe80",
   "metadata": {},
   "source": [
    "# Logistic Regression for Binary Classification\n",
    "\n",
    "- O/P probabilities\n",
    "- Default threshold is 0.5, meaning:\n",
    "- p > 0.5 then data is labeled 1\n",
    "- p < 0.5 then data is labeled 0\n",
    "\n",
    "![Screenshot](LinearBoundary.png)"
   ]
  },
  {
   "cell_type": "code",
   "execution_count": 2,
   "id": "39d99b75",
   "metadata": {},
   "outputs": [],
   "source": [
    "# Syntax\n",
    "\n",
    "from sklearn.linear_model import LogisticRegression\n",
    "logreg = LogisticRegression()\n",
    "#split data as per usual\n",
    "#logreg.fit x train, y train \n",
    "y_pred_probs = logreg.predict_proba(X_test)[:,1]"
   ]
  }
 ],
 "metadata": {
  "kernelspec": {
   "display_name": "Python 3",
   "language": "python",
   "name": "python3"
  },
  "language_info": {
   "codemirror_mode": {
    "name": "ipython",
    "version": 3
   },
   "file_extension": ".py",
   "mimetype": "text/x-python",
   "name": "python",
   "nbconvert_exporter": "python",
   "pygments_lexer": "ipython3",
   "version": "3.8.8"
  }
 },
 "nbformat": 4,
 "nbformat_minor": 5
}
